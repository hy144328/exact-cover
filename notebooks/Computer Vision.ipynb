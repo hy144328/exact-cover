{
 "cells": [
  {
   "cell_type": "code",
   "execution_count": null,
   "id": "b1f39eed",
   "metadata": {},
   "outputs": [],
   "source": [
    "%matplotlib inline"
   ]
  },
  {
   "cell_type": "code",
   "execution_count": null,
   "id": "253bf311",
   "metadata": {},
   "outputs": [],
   "source": [
    "import cv2\n",
    "import matplotlib.pyplot as plt\n",
    "import numpy as np\n",
    "import pytesseract\n",
    "import skimage.segmentation"
   ]
  },
  {
   "cell_type": "markdown",
   "id": "b188b28c",
   "metadata": {},
   "source": [
    "# Feature detection"
   ]
  },
  {
   "cell_type": "code",
   "execution_count": null,
   "id": "870fba2d",
   "metadata": {},
   "outputs": [],
   "source": [
    "NO_FEATURES = 2000\n",
    "orb = cv2.ORB_create(NO_FEATURES)\n",
    "matcher = cv2.DescriptorMatcher_create(cv2.DESCRIPTOR_MATCHER_BRUTEFORCE_HAMMING)"
   ]
  },
  {
   "cell_type": "markdown",
   "id": "cc34b49e",
   "metadata": {},
   "source": [
    "## Reference image"
   ]
  },
  {
   "cell_type": "code",
   "execution_count": null,
   "id": "fa611500",
   "metadata": {},
   "outputs": [],
   "source": [
    "NO_DOTS = 40\n",
    "NO_DOTS_MARGIN = 10\n",
    "NO_DOTS_TOTAL = 9 * NO_DOTS + 2 * NO_DOTS_MARGIN + 6 * 1 + 4 * 2\n",
    "LOCS_LINE = [\n",
    "    NO_DOTS_MARGIN                   ,\n",
    "    NO_DOTS_MARGIN               +  1,\n",
    "    NO_DOTS_MARGIN + 1 * NO_DOTS +  2,\n",
    "    NO_DOTS_MARGIN + 2 * NO_DOTS +  3,\n",
    "    NO_DOTS_MARGIN + 3 * NO_DOTS +  4,\n",
    "    NO_DOTS_MARGIN + 3 * NO_DOTS +  5,\n",
    "    NO_DOTS_MARGIN + 4 * NO_DOTS +  6,\n",
    "    NO_DOTS_MARGIN + 5 * NO_DOTS +  7,\n",
    "    NO_DOTS_MARGIN + 6 * NO_DOTS +  8,\n",
    "    NO_DOTS_MARGIN + 6 * NO_DOTS +  9,\n",
    "    NO_DOTS_MARGIN + 7 * NO_DOTS + 10,\n",
    "    NO_DOTS_MARGIN + 8 * NO_DOTS + 11,\n",
    "    NO_DOTS_MARGIN + 9 * NO_DOTS + 12,\n",
    "    NO_DOTS_MARGIN + 9 * NO_DOTS + 13,\n",
    "]"
   ]
  },
  {
   "cell_type": "code",
   "execution_count": null,
   "id": "64a07253",
   "metadata": {},
   "outputs": [],
   "source": [
    "channel_100 = np.full((NO_DOTS_TOTAL, NO_DOTS_TOTAL), 255, dtype=np.uint8)\n",
    "channel_100[LOCS_LINE, NO_DOTS_MARGIN:-NO_DOTS_MARGIN] = 0\n",
    "channel_100[NO_DOTS_MARGIN:-NO_DOTS_MARGIN, LOCS_LINE] = 0\n",
    "\n",
    "img_100 = cv2.merge((channel_100, channel_100, channel_100))"
   ]
  },
  {
   "cell_type": "code",
   "execution_count": null,
   "id": "d0c6b50a",
   "metadata": {},
   "outputs": [],
   "source": [
    "fig_100 = plt.figure(100)\n",
    "ax_100 = fig_100.gca()\n",
    "ax_100.imshow(img_100, cmap=\"gray\")"
   ]
  },
  {
   "cell_type": "code",
   "execution_count": null,
   "id": "a74e6250",
   "metadata": {},
   "outputs": [],
   "source": [
    "keypoints_101, descriptors_101 = orb.detectAndCompute(img_100, None)"
   ]
  },
  {
   "cell_type": "code",
   "execution_count": null,
   "id": "e49979fa",
   "metadata": {},
   "outputs": [],
   "source": [
    "img_101 = cv2.drawKeypoints(\n",
    "    img_100,\n",
    "    keypoints_101,\n",
    "    outImage = np.array([]),\n",
    "    color = (255, 0, 0),\n",
    "    flags = cv2.DRAW_MATCHES_FLAGS_DRAW_RICH_KEYPOINTS,\n",
    ")"
   ]
  },
  {
   "cell_type": "code",
   "execution_count": null,
   "id": "a00da716",
   "metadata": {},
   "outputs": [],
   "source": [
    "fig_101 = plt.figure(101)\n",
    "ax_101 = fig_101.gca()\n",
    "ax_101.imshow(img_101)"
   ]
  },
  {
   "cell_type": "markdown",
   "id": "4a7bf49b",
   "metadata": {},
   "source": [
    "## First screenshot"
   ]
  },
  {
   "cell_type": "code",
   "execution_count": null,
   "id": "93a1fb09",
   "metadata": {},
   "outputs": [],
   "source": [
    "img_200 = cv2.imread(\n",
    "    \"Screenshot from 2022-01-02 21-00-15.png\",\n",
    "    cv2.IMREAD_GRAYSCALE,\n",
    ")"
   ]
  },
  {
   "cell_type": "code",
   "execution_count": null,
   "id": "11924c0c",
   "metadata": {},
   "outputs": [],
   "source": [
    "fig_200 = plt.figure(200)\n",
    "ax_200 = fig_200.gca()\n",
    "ax_200 = ax_200.imshow(img_200, cmap=\"gray\")"
   ]
  },
  {
   "cell_type": "code",
   "execution_count": null,
   "id": "7fcc0d84",
   "metadata": {},
   "outputs": [],
   "source": [
    "keypoints_201, descriptors_201 = orb.detectAndCompute(img_200, None)"
   ]
  },
  {
   "cell_type": "code",
   "execution_count": null,
   "id": "56b6fe66",
   "metadata": {},
   "outputs": [],
   "source": [
    "img_201 = cv2.drawKeypoints(\n",
    "    img_200,\n",
    "    keypoints_201,\n",
    "    outImage = np.array([]),\n",
    "    color = (255, 0, 0),\n",
    "    flags = cv2.DRAW_MATCHES_FLAGS_DRAW_RICH_KEYPOINTS,\n",
    ")"
   ]
  },
  {
   "cell_type": "code",
   "execution_count": null,
   "id": "46735db1",
   "metadata": {},
   "outputs": [],
   "source": [
    "fig_201 = plt.figure(201)\n",
    "ax_201 = fig_201.gca()\n",
    "ax_201.imshow(img_201)"
   ]
  },
  {
   "cell_type": "code",
   "execution_count": null,
   "id": "14aeb79c",
   "metadata": {},
   "outputs": [],
   "source": [
    "matches_202 = list(matcher.match(descriptors_101, descriptors_201, None))\n",
    "matches_202.sort(key=lambda x: x.distance, reverse=False\n",
    "                )\n",
    "matches_202 = matches_202[:len(matches_202) // 10]"
   ]
  },
  {
   "cell_type": "code",
   "execution_count": null,
   "id": "b721ab28",
   "metadata": {},
   "outputs": [],
   "source": [
    "img_202 = cv2.drawMatches(img_100, keypoints_101, img_200, keypoints_201, matches_202, None)"
   ]
  },
  {
   "cell_type": "code",
   "execution_count": null,
   "id": "f933c291",
   "metadata": {},
   "outputs": [],
   "source": [
    "fig_202 = plt.figure(202)\n",
    "ax_202 = fig_202.gca()\n",
    "ax_202.imshow(img_202)"
   ]
  },
  {
   "cell_type": "markdown",
   "id": "d78f81a0",
   "metadata": {},
   "source": [
    "# Contour detection"
   ]
  },
  {
   "cell_type": "code",
   "execution_count": null,
   "id": "2d869c8f",
   "metadata": {},
   "outputs": [],
   "source": [
    "img_1000 = cv2.imread(\n",
    "    \"../assets/Screenshot from 2022-01-02 21-00-15.png\",\n",
    "    cv2.IMREAD_GRAYSCALE,\n",
    ")"
   ]
  },
  {
   "cell_type": "code",
   "execution_count": null,
   "id": "49fa0ca8",
   "metadata": {},
   "outputs": [],
   "source": [
    "fig_1000 = plt.figure(1000)\n",
    "ax_1000 = fig_1000.gca()\n",
    "ax_1000 = ax_1000.imshow(img_1000, cmap=\"gray\")"
   ]
  },
  {
   "cell_type": "code",
   "execution_count": null,
   "id": "c94ec7b2",
   "metadata": {},
   "outputs": [],
   "source": [
    "img_1001 = cv2.adaptiveThreshold(\n",
    "    img_1000,\n",
    "    255,\n",
    "    cv2.ADAPTIVE_THRESH_GAUSSIAN_C,\n",
    "    cv2.THRESH_BINARY_INV,\n",
    "    11,\n",
    "    2,\n",
    ")"
   ]
  },
  {
   "cell_type": "code",
   "execution_count": null,
   "id": "14bae0b0",
   "metadata": {},
   "outputs": [],
   "source": [
    "fig_1001 = plt.figure(1001)\n",
    "ax_1001 = fig_1001.gca()\n",
    "ax_1001.imshow(img_1001, cmap=\"gray\")"
   ]
  },
  {
   "cell_type": "code",
   "execution_count": null,
   "id": "81535af5",
   "metadata": {},
   "outputs": [],
   "source": [
    "cnts, hierarchy = cv2.findContours(img_1001, cv2.RETR_EXTERNAL, cv2.CHAIN_APPROX_SIMPLE)\n",
    "cnt = cnts[0]\n",
    "print(cnt)"
   ]
  },
  {
   "cell_type": "code",
   "execution_count": null,
   "id": "31aef9bd",
   "metadata": {},
   "outputs": [],
   "source": [
    "M_1002 = cv2.getPerspectiveTransform(\n",
    "    np.array([e[0] for e in cnt], dtype=np.float32),\n",
    "    np.array([[0, 0], [0, 450], [450, 450], [450, 0]], dtype=np.float32),\n",
    ")\n",
    "img_1002 = cv2.warpPerspective(img_1001, M_1002, (450, 450))"
   ]
  },
  {
   "cell_type": "code",
   "execution_count": null,
   "id": "4f734a4d",
   "metadata": {},
   "outputs": [],
   "source": [
    "fig_1002 = plt.figure(1002)\n",
    "ax_1002 = fig_1002.gca()\n",
    "ax_1002.imshow(img_1002, cmap=\"gray\")"
   ]
  },
  {
   "cell_type": "code",
   "execution_count": null,
   "id": "c24343ba",
   "metadata": {},
   "outputs": [],
   "source": [
    "res = [[None for _ in range(9)] for _ in range(9)]\n",
    "\n",
    "for i in range(9):\n",
    "    x_left = i * 50\n",
    "    x_right = (i + 1) * 50\n",
    "    \n",
    "    for j in range(9):\n",
    "        y_left = j * 50\n",
    "        y_right = (j + 1) * 50\n",
    "        \n",
    "        img_it = img_1002[x_left:x_right, y_left:y_right]\n",
    "        img_it_wo_border = skimage.segmentation.clear_border(img_it, 3)\n",
    "        \n",
    "        res_it = pytesseract.image_to_string(\n",
    "            cv2.bitwise_not(img_it_wo_border),\n",
    "            config = \"--psm 10 outputbase digits\",\n",
    "        )\n",
    "        res_it = res_it.strip()\n",
    "        \n",
    "        if not res_it:\n",
    "            continue\n",
    "            \n",
    "        res[i][j] = int(res_it)\n",
    "        \n",
    "        fig_it = plt.figure(1100 + 100 * i + 10 * j)\n",
    "        ax_1, ax_2 = fig_it.subplots(1, 2)\n",
    "        ax_1.imshow(img_it, cmap=\"gray\")\n",
    "        ax_2.imshow(img_it_wo_border, cmap=\"gray\")"
   ]
  },
  {
   "cell_type": "code",
   "execution_count": null,
   "id": "4de0abdc",
   "metadata": {},
   "outputs": [],
   "source": [
    "print(\"\\n\".join([\" \".join([str(c) if c is not None else \" \" for c in res_it]) for res_it in res]))"
   ]
  },
  {
   "cell_type": "code",
   "execution_count": null,
   "id": "0c914e53",
   "metadata": {},
   "outputs": [],
   "source": []
  }
 ],
 "metadata": {
  "kernelspec": {
   "display_name": "Python 3 (ipykernel)",
   "language": "python",
   "name": "python3"
  },
  "language_info": {
   "codemirror_mode": {
    "name": "ipython",
    "version": 3
   },
   "file_extension": ".py",
   "mimetype": "text/x-python",
   "name": "python",
   "nbconvert_exporter": "python",
   "pygments_lexer": "ipython3",
   "version": "3.13.1"
  },
  "toc": {
   "base_numbering": 1,
   "nav_menu": {},
   "number_sections": true,
   "sideBar": true,
   "skip_h1_title": false,
   "title_cell": "Table of Contents",
   "title_sidebar": "Contents",
   "toc_cell": false,
   "toc_position": {},
   "toc_section_display": true,
   "toc_window_display": false
  }
 },
 "nbformat": 4,
 "nbformat_minor": 5
}
