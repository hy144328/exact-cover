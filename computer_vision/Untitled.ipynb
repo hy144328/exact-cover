{
 "cells": [
  {
   "cell_type": "code",
   "execution_count": null,
   "id": "253bf311",
   "metadata": {},
   "outputs": [],
   "source": [
    "%matplotlib notebook\n",
    "\n",
    "import cv2 as cv\n",
    "import math\n",
    "import matplotlib.pyplot as plt\n",
    "import numpy as np\n",
    "import pytesseract"
   ]
  },
  {
   "cell_type": "code",
   "execution_count": null,
   "id": "11924c0c",
   "metadata": {},
   "outputs": [],
   "source": [
    "img = cv.imread(\"Screenshot from 2022-01-02 21-00-15.png\")\n",
    "fig = plt.figure(1)\n",
    "ax = fig.gca()\n",
    "ax.imshow(img)"
   ]
  },
  {
   "cell_type": "code",
   "execution_count": null,
   "id": "5b17d61d",
   "metadata": {},
   "outputs": [],
   "source": [
    "img = cv.cvtColor(img, cv.COLOR_BGR2GRAY)\n",
    "fig = plt.figure(2)\n",
    "ax = fig.gca()\n",
    "ax.imshow(img)"
   ]
  },
  {
   "cell_type": "code",
   "execution_count": null,
   "id": "14bae0b0",
   "metadata": {},
   "outputs": [],
   "source": [
    "ret, img = cv.threshold(img, 127, 255, cv.THRESH_BINARY_INV)\n",
    "fig = plt.figure(3)\n",
    "ax = fig.gca()\n",
    "ax.imshow(img)"
   ]
  },
  {
   "cell_type": "code",
   "execution_count": null,
   "id": "81535af5",
   "metadata": {},
   "outputs": [],
   "source": [
    "cnts, hierarchy = cv.findContours(img, cv.RETR_EXTERNAL, cv.CHAIN_APPROX_SIMPLE)\n",
    "cnt = cnts[0]\n",
    "print(cnt)"
   ]
  },
  {
   "cell_type": "code",
   "execution_count": null,
   "id": "4b16e015",
   "metadata": {},
   "outputs": [],
   "source": [
    "x_min = np.min(cnt[:, 0, 0])\n",
    "x_max = np.max(cnt[:, 0, 0])\n",
    "y_min = np.min(cnt[:, 0, 1])\n",
    "y_max = np.max(cnt[:, 0, 1])\n",
    "print(x_min, x_max, y_min, y_max)"
   ]
  },
  {
   "cell_type": "code",
   "execution_count": null,
   "id": "576c39eb",
   "metadata": {},
   "outputs": [],
   "source": [
    "delta_x = (x_max - x_min) / 9\n",
    "delta_y = (y_max - y_min) / 9\n",
    "print(delta_x, delta_y)"
   ]
  },
  {
   "cell_type": "code",
   "execution_count": null,
   "id": "92b275a8",
   "metadata": {},
   "outputs": [],
   "source": [
    "delta = 4\n",
    "\n",
    "for i in range(9):\n",
    "    x_left = x_min + math.ceil(i * delta_x) + delta\n",
    "    x_right = x_min + math.floor((i + 1) * delta_x) - delta\n",
    "    \n",
    "    for j in range(9):\n",
    "        y_top = y_min + math.ceil(j * delta_y) + delta\n",
    "        y_bottom = y_min + math.floor((j + 1) * delta_y) - delta\n",
    "\n",
    "        square = img[x_left:x_right, y_top:y_bottom]\n",
    "        \n",
    "        if square.sum() / 255 / square.size > 0.01:\n",
    "            idx = 100 + 9 * i + j\n",
    "            cv.imwrite(\n",
    "                f\"digit_{idx}.png\",\n",
    "                square,\n",
    "            )\n",
    "            \n",
    "            square = cv.bitwise_not(square)\n",
    "            s = pytesseract.image_to_string(\n",
    "                square,\n",
    "                config = \"--psm 10\",\n",
    "            )\n",
    "            print(s[0])"
   ]
  },
  {
   "cell_type": "code",
   "execution_count": null,
   "id": "4de0abdc",
   "metadata": {},
   "outputs": [],
   "source": []
  }
 ],
 "metadata": {
  "kernelspec": {
   "display_name": "Python 3",
   "language": "python",
   "name": "python3"
  },
  "language_info": {
   "codemirror_mode": {
    "name": "ipython",
    "version": 3
   },
   "file_extension": ".py",
   "mimetype": "text/x-python",
   "name": "python",
   "nbconvert_exporter": "python",
   "pygments_lexer": "ipython3",
   "version": "3.9.6"
  },
  "toc": {
   "base_numbering": 1,
   "nav_menu": {},
   "number_sections": true,
   "sideBar": true,
   "skip_h1_title": false,
   "title_cell": "Table of Contents",
   "title_sidebar": "Contents",
   "toc_cell": false,
   "toc_position": {},
   "toc_section_display": true,
   "toc_window_display": false
  }
 },
 "nbformat": 4,
 "nbformat_minor": 5
}
